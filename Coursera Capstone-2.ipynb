{
 "cells": [
  {
   "cell_type": "code",
   "execution_count": 5,
   "metadata": {},
   "outputs": [],
   "source": [
    "# Load necessary library\n",
    "import os\n",
    "import pandas as pd\n",
    "import numpy as np\n",
    "import math\n",
    "import datetime\n",
    "from datetime import timedelta\n",
    "import matplotlib.pyplot as plt\n",
    "from matplotlib.ticker import StrMethodFormatter\n",
    "import matplotlib.ticker as mtick\n",
    "import seaborn as sns\n",
    "import folium\n",
    "import branca.colormap as cm\n",
    "from sklearn.linear_model import LogisticRegression\n",
    "from sklearn.model_selection import train_test_split\n",
    "from sklearn import preprocessing\n",
    "from sklearn.metrics import confusion_matrix\n",
    "\n",
    "import warnings\n",
    "warnings.filterwarnings('ignore')\n",
    "plt.style.use('seaborn')\n",
    "%matplotlib inline\n",
    "\n",
    "plt.rcParams[\"figure.figsize\"] = (15,8)"
   ]
  },
  {
   "cell_type": "code",
   "execution_count": 6,
   "metadata": {},
   "outputs": [],
   "source": [
    "# Load and preview data \n",
    "accident = pd.read_csv(\"US_Accidents_June20.csv\")\n"
   ]
  },
  {
   "cell_type": "code",
   "execution_count": null,
   "metadata": {},
   "outputs": [],
   "source": []
  },
  {
   "cell_type": "code",
   "execution_count": 7,
   "metadata": {},
   "outputs": [],
   "source": [
    "# Exclude unnecessary columns\n",
    "exclude = [\"TMC\",\"End_Lat\",\"End_Lng\",\"Description\",\"Number\",\"Street\",\"Timezone\",\n",
    "           \"Airport_Code\",\"Weather_Timestamp\",\"Civil_Twilight\",\"Nautical_Twilight\",\"Astronomical_Twilight\"]\n",
    "accident_clean = accident.drop(exclude,axis=1)\n"
   ]
  },
  {
   "cell_type": "code",
   "execution_count": 8,
   "metadata": {},
   "outputs": [
    {
     "data": {
      "text/html": [
       "<div>\n",
       "<style scoped>\n",
       "    .dataframe tbody tr th:only-of-type {\n",
       "        vertical-align: middle;\n",
       "    }\n",
       "\n",
       "    .dataframe tbody tr th {\n",
       "        vertical-align: top;\n",
       "    }\n",
       "\n",
       "    .dataframe thead th {\n",
       "        text-align: right;\n",
       "    }\n",
       "</style>\n",
       "<table border=\"1\" class=\"dataframe\">\n",
       "  <thead>\n",
       "    <tr style=\"text-align: right;\">\n",
       "      <th></th>\n",
       "      <th>ID</th>\n",
       "      <th>Source</th>\n",
       "      <th>Severity</th>\n",
       "      <th>Start_Time</th>\n",
       "      <th>End_Time</th>\n",
       "      <th>Start_Lat</th>\n",
       "      <th>Start_Lng</th>\n",
       "      <th>Distance(mi)</th>\n",
       "      <th>Side</th>\n",
       "      <th>City</th>\n",
       "      <th>...</th>\n",
       "      <th>Traffic_Signal</th>\n",
       "      <th>Turning_Loop</th>\n",
       "      <th>Sunrise_Sunset</th>\n",
       "      <th>Time_Diff</th>\n",
       "      <th>Start_Date</th>\n",
       "      <th>End_Date</th>\n",
       "      <th>Year</th>\n",
       "      <th>Month</th>\n",
       "      <th>Day</th>\n",
       "      <th>Hour</th>\n",
       "    </tr>\n",
       "  </thead>\n",
       "  <tbody>\n",
       "    <tr>\n",
       "      <th>0</th>\n",
       "      <td>A-1</td>\n",
       "      <td>MapQuest</td>\n",
       "      <td>3</td>\n",
       "      <td>2016-02-08 05:46:00</td>\n",
       "      <td>2016-02-08 11:00:00</td>\n",
       "      <td>39.865147</td>\n",
       "      <td>-84.058723</td>\n",
       "      <td>0.01</td>\n",
       "      <td>R</td>\n",
       "      <td>Dayton</td>\n",
       "      <td>...</td>\n",
       "      <td>False</td>\n",
       "      <td>False</td>\n",
       "      <td>Night</td>\n",
       "      <td>314.0</td>\n",
       "      <td>2016-02-08</td>\n",
       "      <td>2016-02-08</td>\n",
       "      <td>2016</td>\n",
       "      <td>2</td>\n",
       "      <td>8</td>\n",
       "      <td>5</td>\n",
       "    </tr>\n",
       "    <tr>\n",
       "      <th>1</th>\n",
       "      <td>A-2</td>\n",
       "      <td>MapQuest</td>\n",
       "      <td>2</td>\n",
       "      <td>2016-02-08 06:07:59</td>\n",
       "      <td>2016-02-08 06:37:59</td>\n",
       "      <td>39.928059</td>\n",
       "      <td>-82.831184</td>\n",
       "      <td>0.01</td>\n",
       "      <td>L</td>\n",
       "      <td>Reynoldsburg</td>\n",
       "      <td>...</td>\n",
       "      <td>False</td>\n",
       "      <td>False</td>\n",
       "      <td>Night</td>\n",
       "      <td>30.0</td>\n",
       "      <td>2016-02-08</td>\n",
       "      <td>2016-02-08</td>\n",
       "      <td>2016</td>\n",
       "      <td>2</td>\n",
       "      <td>8</td>\n",
       "      <td>6</td>\n",
       "    </tr>\n",
       "    <tr>\n",
       "      <th>2</th>\n",
       "      <td>A-3</td>\n",
       "      <td>MapQuest</td>\n",
       "      <td>2</td>\n",
       "      <td>2016-02-08 06:49:27</td>\n",
       "      <td>2016-02-08 07:19:27</td>\n",
       "      <td>39.063148</td>\n",
       "      <td>-84.032608</td>\n",
       "      <td>0.01</td>\n",
       "      <td>R</td>\n",
       "      <td>Williamsburg</td>\n",
       "      <td>...</td>\n",
       "      <td>True</td>\n",
       "      <td>False</td>\n",
       "      <td>Night</td>\n",
       "      <td>30.0</td>\n",
       "      <td>2016-02-08</td>\n",
       "      <td>2016-02-08</td>\n",
       "      <td>2016</td>\n",
       "      <td>2</td>\n",
       "      <td>8</td>\n",
       "      <td>6</td>\n",
       "    </tr>\n",
       "    <tr>\n",
       "      <th>3</th>\n",
       "      <td>A-4</td>\n",
       "      <td>MapQuest</td>\n",
       "      <td>3</td>\n",
       "      <td>2016-02-08 07:23:34</td>\n",
       "      <td>2016-02-08 07:53:34</td>\n",
       "      <td>39.747753</td>\n",
       "      <td>-84.205582</td>\n",
       "      <td>0.01</td>\n",
       "      <td>R</td>\n",
       "      <td>Dayton</td>\n",
       "      <td>...</td>\n",
       "      <td>False</td>\n",
       "      <td>False</td>\n",
       "      <td>Night</td>\n",
       "      <td>30.0</td>\n",
       "      <td>2016-02-08</td>\n",
       "      <td>2016-02-08</td>\n",
       "      <td>2016</td>\n",
       "      <td>2</td>\n",
       "      <td>8</td>\n",
       "      <td>7</td>\n",
       "    </tr>\n",
       "    <tr>\n",
       "      <th>4</th>\n",
       "      <td>A-5</td>\n",
       "      <td>MapQuest</td>\n",
       "      <td>2</td>\n",
       "      <td>2016-02-08 07:39:07</td>\n",
       "      <td>2016-02-08 08:09:07</td>\n",
       "      <td>39.627781</td>\n",
       "      <td>-84.188354</td>\n",
       "      <td>0.01</td>\n",
       "      <td>R</td>\n",
       "      <td>Dayton</td>\n",
       "      <td>...</td>\n",
       "      <td>True</td>\n",
       "      <td>False</td>\n",
       "      <td>Day</td>\n",
       "      <td>30.0</td>\n",
       "      <td>2016-02-08</td>\n",
       "      <td>2016-02-08</td>\n",
       "      <td>2016</td>\n",
       "      <td>2</td>\n",
       "      <td>8</td>\n",
       "      <td>7</td>\n",
       "    </tr>\n",
       "  </tbody>\n",
       "</table>\n",
       "<p>5 rows × 44 columns</p>\n",
       "</div>"
      ],
      "text/plain": [
       "    ID    Source  Severity          Start_Time            End_Time  Start_Lat  \\\n",
       "0  A-1  MapQuest         3 2016-02-08 05:46:00 2016-02-08 11:00:00  39.865147   \n",
       "1  A-2  MapQuest         2 2016-02-08 06:07:59 2016-02-08 06:37:59  39.928059   \n",
       "2  A-3  MapQuest         2 2016-02-08 06:49:27 2016-02-08 07:19:27  39.063148   \n",
       "3  A-4  MapQuest         3 2016-02-08 07:23:34 2016-02-08 07:53:34  39.747753   \n",
       "4  A-5  MapQuest         2 2016-02-08 07:39:07 2016-02-08 08:09:07  39.627781   \n",
       "\n",
       "   Start_Lng  Distance(mi) Side          City  ... Traffic_Signal  \\\n",
       "0 -84.058723          0.01    R        Dayton  ...          False   \n",
       "1 -82.831184          0.01    L  Reynoldsburg  ...          False   \n",
       "2 -84.032608          0.01    R  Williamsburg  ...           True   \n",
       "3 -84.205582          0.01    R        Dayton  ...          False   \n",
       "4 -84.188354          0.01    R        Dayton  ...           True   \n",
       "\n",
       "  Turning_Loop Sunrise_Sunset Time_Diff  Start_Date    End_Date  Year  Month  \\\n",
       "0        False          Night     314.0  2016-02-08  2016-02-08  2016      2   \n",
       "1        False          Night      30.0  2016-02-08  2016-02-08  2016      2   \n",
       "2        False          Night      30.0  2016-02-08  2016-02-08  2016      2   \n",
       "3        False          Night      30.0  2016-02-08  2016-02-08  2016      2   \n",
       "4        False            Day      30.0  2016-02-08  2016-02-08  2016      2   \n",
       "\n",
       "   Day Hour  \n",
       "0    8    5  \n",
       "1    8    6  \n",
       "2    8    6  \n",
       "3    8    7  \n",
       "4    8    7  \n",
       "\n",
       "[5 rows x 44 columns]"
      ]
     },
     "execution_count": 8,
     "metadata": {},
     "output_type": "execute_result"
    }
   ],
   "source": [
    "# Adding calculation of time difference of start and end time in minutes\n",
    "accident_clean.Start_Time = pd.to_datetime(accident_clean.Start_Time)\n",
    "accident_clean.End_Time = pd.to_datetime(accident_clean.End_Time)\n",
    "accident_clean[\"Time_Diff\"] = (accident_clean.End_Time - accident_clean.Start_Time).astype('timedelta64[m]')\n",
    "\n",
    "accident_clean[\"Start_Date\"] = accident_clean[\"Start_Time\"].dt.date\n",
    "accident_clean[\"End_Date\"] = accident_clean[\"End_Time\"].dt.date\n",
    "accident_clean[\"Year\"] = accident_clean[\"Start_Time\"].dt.year\n",
    "accident_clean[\"Month\"] = accident_clean[\"Start_Time\"].dt.month\n",
    "accident_clean[\"Day\"] = accident_clean[\"Start_Time\"].dt.day\n",
    "accident_clean[\"Hour\"] = accident_clean[\"Start_Time\"].dt.hour\n",
    "\n",
    "# Excluding accidents in 2015 and 2021 where there's not enough data\n",
    "accident_clean = accident_clean[(accident_clean[\"Year\"] > 2015) & (accident_clean[\"Year\"] < 2021)]\n",
    "group = accident_clean.groupby([\"Year\"]).agg(Count = ('ID','count'))\n",
    "\n",
    "# Verify data\n",
    "accident_clean.head()"
   ]
  },
  {
   "cell_type": "code",
   "execution_count": null,
   "metadata": {},
   "outputs": [],
   "source": []
  },
  {
   "cell_type": "code",
   "execution_count": null,
   "metadata": {},
   "outputs": [],
   "source": []
  },
  {
   "cell_type": "code",
   "execution_count": null,
   "metadata": {},
   "outputs": [],
   "source": []
  },
  {
   "cell_type": "code",
   "execution_count": null,
   "metadata": {},
   "outputs": [],
   "source": []
  },
  {
   "cell_type": "code",
   "execution_count": null,
   "metadata": {},
   "outputs": [],
   "source": []
  },
  {
   "cell_type": "code",
   "execution_count": 9,
   "metadata": {},
   "outputs": [
    {
     "data": {
      "image/png": "[encoded data removed]",
      "text/plain": [
       "<Figure size 1080x576 with 2 Axes>"
      ]
     },
     "metadata": {
      "needs_background": "light"
     },
     "output_type": "display_data"
    }
   ],
   "source": [
    "# Most accidents happened between 7 and 8, which is the morning rush hour\n",
    "# morning rush hour have much more accidents then the afternoon rush hour, which is 4 to 6 in the afternoon\n",
    "\n",
    "group_hour = accident_clean.groupby([\"Day\",\"Hour\"]).size().unstack()\n",
    "ax = sns.heatmap(group_hour, cmap=\"YlGnBu\",linewidths=0.1)"
   ]
  },
  {
   "cell_type": "code",
   "execution_count": null,
   "metadata": {},
   "outputs": [],
   "source": []
  },
  {
   "cell_type": "code",
   "execution_count": 11,
   "metadata": {},
   "outputs": [
    {
     "data": {
      "text/html": [
       "<div>\n",
       "<style scoped>\n",
       "    .dataframe tbody tr th:only-of-type {\n",
       "        vertical-align: middle;\n",
       "    }\n",
       "\n",
       "    .dataframe tbody tr th {\n",
       "        vertical-align: top;\n",
       "    }\n",
       "\n",
       "    .dataframe thead th {\n",
       "        text-align: right;\n",
       "    }\n",
       "</style>\n",
       "<table border=\"1\" class=\"dataframe\">\n",
       "  <thead>\n",
       "    <tr style=\"text-align: right;\">\n",
       "      <th></th>\n",
       "      <th>Severity</th>\n",
       "      <th>Distance(mi)</th>\n",
       "      <th>Time_Diff</th>\n",
       "      <th>Temperature(F)</th>\n",
       "      <th>Wind_Chill(F)</th>\n",
       "      <th>Humidity(%)</th>\n",
       "      <th>Pressure(in)</th>\n",
       "      <th>Visibility(mi)</th>\n",
       "      <th>Wind_Speed(mph)</th>\n",
       "      <th>Precipitation(in)</th>\n",
       "    </tr>\n",
       "  </thead>\n",
       "  <tbody>\n",
       "    <tr>\n",
       "      <th>5</th>\n",
       "      <td>3</td>\n",
       "      <td>0.01</td>\n",
       "      <td>30.0</td>\n",
       "      <td>37.9</td>\n",
       "      <td>35.5</td>\n",
       "      <td>97.0</td>\n",
       "      <td>29.63</td>\n",
       "      <td>7.0</td>\n",
       "      <td>3.5</td>\n",
       "      <td>0.03</td>\n",
       "    </tr>\n",
       "    <tr>\n",
       "      <th>9</th>\n",
       "      <td>3</td>\n",
       "      <td>0.01</td>\n",
       "      <td>30.0</td>\n",
       "      <td>37.4</td>\n",
       "      <td>33.8</td>\n",
       "      <td>100.0</td>\n",
       "      <td>29.62</td>\n",
       "      <td>3.0</td>\n",
       "      <td>4.6</td>\n",
       "      <td>0.02</td>\n",
       "    </tr>\n",
       "    <tr>\n",
       "      <th>11</th>\n",
       "      <td>3</td>\n",
       "      <td>0.01</td>\n",
       "      <td>30.0</td>\n",
       "      <td>37.4</td>\n",
       "      <td>33.8</td>\n",
       "      <td>100.0</td>\n",
       "      <td>29.62</td>\n",
       "      <td>3.0</td>\n",
       "      <td>4.6</td>\n",
       "      <td>0.02</td>\n",
       "    </tr>\n",
       "    <tr>\n",
       "      <th>14</th>\n",
       "      <td>2</td>\n",
       "      <td>0.01</td>\n",
       "      <td>30.0</td>\n",
       "      <td>37.4</td>\n",
       "      <td>33.8</td>\n",
       "      <td>100.0</td>\n",
       "      <td>29.62</td>\n",
       "      <td>3.0</td>\n",
       "      <td>4.6</td>\n",
       "      <td>0.02</td>\n",
       "    </tr>\n",
       "    <tr>\n",
       "      <th>20</th>\n",
       "      <td>2</td>\n",
       "      <td>0.00</td>\n",
       "      <td>30.0</td>\n",
       "      <td>33.8</td>\n",
       "      <td>29.6</td>\n",
       "      <td>100.0</td>\n",
       "      <td>29.62</td>\n",
       "      <td>2.0</td>\n",
       "      <td>4.6</td>\n",
       "      <td>0.01</td>\n",
       "    </tr>\n",
       "  </tbody>\n",
       "</table>\n",
       "</div>"
      ],
      "text/plain": [
       "    Severity  Distance(mi)  Time_Diff  Temperature(F)  Wind_Chill(F)  \\\n",
       "5          3          0.01       30.0            37.9           35.5   \n",
       "9          3          0.01       30.0            37.4           33.8   \n",
       "11         3          0.01       30.0            37.4           33.8   \n",
       "14         2          0.01       30.0            37.4           33.8   \n",
       "20         2          0.00       30.0            33.8           29.6   \n",
       "\n",
       "    Humidity(%)  Pressure(in)  Visibility(mi)  Wind_Speed(mph)  \\\n",
       "5          97.0         29.63             7.0              3.5   \n",
       "9         100.0         29.62             3.0              4.6   \n",
       "11        100.0         29.62             3.0              4.6   \n",
       "14        100.0         29.62             3.0              4.6   \n",
       "20        100.0         29.62             2.0              4.6   \n",
       "\n",
       "    Precipitation(in)  \n",
       "5                0.03  \n",
       "9                0.02  \n",
       "11               0.02  \n",
       "14               0.02  \n",
       "20               0.01  "
      ]
     },
     "execution_count": 11,
     "metadata": {},
     "output_type": "execute_result"
    }
   ],
   "source": [
    "variable = [\"Severity\",\"Distance(mi)\",\"Time_Diff\",\"Temperature(F)\",\"Wind_Chill(F)\",\"Humidity(%)\",\n",
    "           \"Pressure(in)\",\"Visibility(mi)\",\"Wind_Speed(mph)\",\"Precipitation(in)\"]\n",
    "accident_model = accident_clean[variable]\n",
    "accident_model = accident_model.dropna()\n",
    "# accident_model['Severity'] = np.where(accident_model['Severity']<=2, 0, 1)\n",
    "accident_model.head()"
   ]
  },
  {
   "cell_type": "code",
   "execution_count": 12,
   "metadata": {},
   "outputs": [
    {
     "data": {
      "text/plain": [
       "LogisticRegression(C=1.0, class_weight=None, dual=False, fit_intercept=True,\n",
       "          intercept_scaling=1, max_iter=1000, multi_class='multinomial',\n",
       "          n_jobs=None, penalty='l2', random_state=None, solver='lbfgs',\n",
       "          tol=0.0001, verbose=0, warm_start=False)"
      ]
     },
     "execution_count": 12,
     "metadata": {},
     "output_type": "execute_result"
    }
   ],
   "source": [
    "Y = accident_model.loc[:,'Severity'].values\n",
    "X = accident_model.loc[:,'Distance(mi)':'Precipitation(in)'].values\n",
    "\n",
    "standardized_X = preprocessing.scale(X)\n",
    "train_x, test_x, train_y, test_y = train_test_split(standardized_X,Y , test_size=0.3, random_state=0)\n",
    "\n",
    "model = LogisticRegression(solver='lbfgs',multi_class='multinomial',max_iter=1000)\n",
    "model.fit(train_x, train_y)"
   ]
  },
  {
   "cell_type": "code",
   "execution_count": 13,
   "metadata": {},
   "outputs": [
    {
     "data": {
      "text/plain": [
       "0.7143793143793143"
      ]
     },
     "execution_count": 13,
     "metadata": {},
     "output_type": "execute_result"
    }
   ],
   "source": [
    "model.score(test_x, test_y)"
   ]
  },
  {
   "cell_type": "code",
   "execution_count": 14,
   "metadata": {},
   "outputs": [
    {
     "data": {
      "text/plain": [
       "Text(315.06, 0.5, 'true value')"
      ]
     },
     "execution_count": 14,
     "metadata": {},
     "output_type": "execute_result"
    },
    {
     "data": {
      "image/png": "[encoded data removed]",
      "text/plain": [
       "<Figure size 1080x576 with 1 Axes>"
      ]
     },
     "metadata": {
      "needs_background": "light"
     },
     "output_type": "display_data"
    }
   ],
   "source": [
    "model_y = model.predict(test_x)\n",
    "\n",
    "mat = confusion_matrix(test_y,model_y)\n",
    "sns.heatmap(mat, square=True, annot=True, cbar=False) \n",
    "plt.xlabel('predicted value')\n",
    "plt.ylabel('true value')"
   ]
  },
  {
   "cell_type": "code",
   "execution_count": null,
   "metadata": {},
   "outputs": [],
   "source": []
  }
 ],
 "metadata": {
  "kernelspec": {
   "display_name": "Python",
   "language": "python",
   "name": "conda-env-python-py"
  },
  "language_info": {
   "codemirror_mode": {
    "name": "ipython",
    "version": 3
   },
   "file_extension": ".py",
   "mimetype": "text/x-python",
   "name": "python",
   "nbconvert_exporter": "python",
   "pygments_lexer": "ipython3",
   "version": "3.6.11"
  }
 },
 "nbformat": 4,
 "nbformat_minor": 4
}
